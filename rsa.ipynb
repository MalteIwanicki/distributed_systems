{
 "cells": [
  {
   "cell_type": "markdown",
   "metadata": {},
   "source": [
    "# primzahlen"
   ]
  },
  {
   "cell_type": "code",
   "execution_count": 1,
   "metadata": {},
   "outputs": [
    {
     "name": "stdout",
     "output_type": "stream",
     "text": [
      "p: 3\n",
      "q: 11\n"
     ]
    }
   ],
   "source": [
    "# define 2 prime numbers\n",
    "p = 3\n",
    "q = 11\n",
    "print(f\"p: {p}\\nq: {q}\")\n"
   ]
  },
  {
   "cell_type": "markdown",
   "metadata": {},
   "source": [
    "# n und phi(n)"
   ]
  },
  {
   "cell_type": "code",
   "execution_count": 2,
   "metadata": {},
   "outputs": [
    {
     "name": "stdout",
     "output_type": "stream",
     "text": [
      "n: 33\n",
      "phi(n): 20\n"
     ]
    }
   ],
   "source": [
    "n = p * q\n",
    "phi_n = (p - 1) * (q - 1)\n",
    "print(f\"n: {n}\\nphi(n): {phi_n}\")\n"
   ]
  },
  {
   "cell_type": "markdown",
   "metadata": {},
   "source": [
    "# formel zur berechnung eines kleinsten gemeinsamen teilers und teilerfremdheit"
   ]
  },
  {
   "cell_type": "code",
   "execution_count": 4,
   "metadata": {},
   "outputs": [],
   "source": [
    "# größter gemeinsamer teiler\n",
    "def gcd(p, q):\n",
    "    # Create the gcd of two positive integers.\n",
    "    while q != 0:\n",
    "        p, q = q, p % q\n",
    "    return p\n",
    "\n",
    "\n",
    "def is_coprime(x, y):\n",
    "    return gcd(x, y) == 1\n"
   ]
  },
  {
   "cell_type": "markdown",
   "metadata": {},
   "source": [
    "# generierung von e"
   ]
  },
  {
   "cell_type": "code",
   "execution_count": 5,
   "metadata": {},
   "outputs": [
    {
     "name": "stdout",
     "output_type": "stream",
     "text": [
      "e: 3\n"
     ]
    }
   ],
   "source": [
    "# eine teilerfremde zahl zu phi(n)\n",
    "e = 3\n",
    "while True:\n",
    "    if is_coprime(e, phi_n):\n",
    "        break\n",
    "    e += 1\n",
    "print(f\"e: {e}\")\n"
   ]
  },
  {
   "cell_type": "code",
   "execution_count": 6,
   "metadata": {},
   "outputs": [],
   "source": [
    "# Python program to find modular\n",
    "# inverse of a under modulo m\n",
    "\n",
    "# A naive method to find modulor\n",
    "# multiplicative inverse of 'e' under modulo 'm'\n",
    "def modInverse(e, phi_n):\n",
    "    e = e % phi_n\n",
    "    for x in range(1, phi_n):\n",
    "        if (e * x) % phi_n == 1:\n",
    "            return x\n",
    "    return 1\n"
   ]
  },
  {
   "cell_type": "code",
   "execution_count": 7,
   "metadata": {},
   "outputs": [
    {
     "name": "stdout",
     "output_type": "stream",
     "text": [
      "d: 7\n"
     ]
    }
   ],
   "source": [
    "# Driver Program\n",
    "d = modInverse(e, phi_n)\n",
    "print(f\"d: {d}\")\n"
   ]
  },
  {
   "cell_type": "markdown",
   "metadata": {},
   "source": [
    "# verschlüsseln\n",
    "y = x^e mod n"
   ]
  },
  {
   "cell_type": "code",
   "execution_count": 8,
   "metadata": {},
   "outputs": [],
   "source": [
    "def encrypt(to_encrypt: int, e, n):\n",
    "    return to_encrypt ** e % n\n",
    "\n"
   ]
  },
  {
   "cell_type": "code",
   "execution_count": 14,
   "metadata": {},
   "outputs": [],
   "source": [
    "to_encrypt = 16"
   ]
  },
  {
   "cell_type": "code",
   "execution_count": 15,
   "metadata": {},
   "outputs": [
    {
     "data": {
      "text/plain": [
       "4"
      ]
     },
     "execution_count": 15,
     "metadata": {},
     "output_type": "execute_result"
    }
   ],
   "source": [
    "encrypted = encrypt(to_encrypt, e, n)\n",
    "encrypted\n"
   ]
  },
  {
   "cell_type": "markdown",
   "metadata": {},
   "source": [
    "# entschlüsseln\n",
    "y^d = (x^e)^d = x^ed"
   ]
  },
  {
   "cell_type": "code",
   "execution_count": 16,
   "metadata": {},
   "outputs": [],
   "source": [
    "def decrypt(to_decrypt, d, n):\n",
    "    return to_decrypt ** d % n\n",
    "\n"
   ]
  },
  {
   "cell_type": "code",
   "execution_count": 17,
   "metadata": {},
   "outputs": [
    {
     "data": {
      "text/plain": [
       "16"
      ]
     },
     "execution_count": 17,
     "metadata": {},
     "output_type": "execute_result"
    }
   ],
   "source": [
    "original = decrypt(encrypted, d, n)\n",
    "original\n"
   ]
  },
  {
   "cell_type": "code",
   "execution_count": 19,
   "metadata": {},
   "outputs": [
    {
     "data": {
      "text/plain": [
       "2"
      ]
     },
     "execution_count": 19,
     "metadata": {},
     "output_type": "execute_result"
    }
   ],
   "source": [
    "decrypt(8, d, n)"
   ]
  },
  {
   "cell_type": "markdown",
   "metadata": {},
   "source": [
    "# overview"
   ]
  },
  {
   "cell_type": "code",
   "execution_count": 18,
   "metadata": {},
   "outputs": [
    {
     "name": "stdout",
     "output_type": "stream",
     "text": [
      "p: 3\n",
      "q: 11\n",
      "n: 33\n",
      "phi(n): 20\n",
      "e: 3\n",
      "d: 7\n",
      "public key: (7, 33)\n",
      "private key: (3, 11, 7)\n",
      "16 encrypted: 4\n"
     ]
    }
   ],
   "source": [
    "print(f\"p: {p}\\nq: {q}\")\n",
    "print(f\"n: {n}\\nphi(n): {phi_n}\")\n",
    "print(f\"e: {e}\")\n",
    "print(f\"d: {d}\")\n",
    "print(f\"public key: ({d}, {n})\")\n",
    "print(f\"private key: ({p}, {q}, {d})\")\n",
    "print(f\"{to_encrypt} encrypted: {encrypt(to_encrypt,e,n)}\")\n"
   ]
  },
  {
   "cell_type": "code",
   "execution_count": null,
   "metadata": {},
   "outputs": [],
   "source": []
  }
 ],
 "metadata": {
  "interpreter": {
   "hash": "ecf5722fdaf1897a315d257d89d94520bfcaa453217d5becf09b39e73618b0de"
  },
  "kernelspec": {
   "display_name": "Python 3.9.7 64-bit ('base': conda)",
   "language": "python",
   "name": "python3"
  },
  "language_info": {
   "codemirror_mode": {
    "name": "ipython",
    "version": 3
   },
   "file_extension": ".py",
   "mimetype": "text/x-python",
   "name": "python",
   "nbconvert_exporter": "python",
   "pygments_lexer": "ipython3",
   "version": "3.9.7"
  },
  "orig_nbformat": 4
 },
 "nbformat": 4,
 "nbformat_minor": 2
}
