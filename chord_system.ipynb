{
 "cells": [
  {
   "cell_type": "code",
   "execution_count": 83,
   "metadata": {},
   "outputs": [],
   "source": [
    "import pandas as pd\n",
    "from math import log2\n",
    "\n",
    "pd.options.display.float_format = \"{:,.0f}\".format\n"
   ]
  },
  {
   "cell_type": "markdown",
   "metadata": {},
   "source": [
    "## Chord System"
   ]
  },
  {
   "cell_type": "markdown",
   "metadata": {},
   "source": [
    "## function\n"
   ]
  },
  {
   "cell_type": "code",
   "execution_count": 84,
   "metadata": {},
   "outputs": [],
   "source": [
    "class ChordSystem:\n",
    "    def __init__(self, ring_size, active_nodes):\n",
    "        self.ring_size = ring_size\n",
    "        self.finger_table_size = int(log2(self.ring_size))\n",
    "        self.active_nodes = active_nodes\n",
    "\n",
    "    def get_succ(self, node):\n",
    "        i = node\n",
    "        while i not in self.active_nodes:\n",
    "            i = (i + 1) % self.ring_size\n",
    "        return i\n",
    "\n",
    "    def get_succs(self, nodes=None):\n",
    "        if not nodes:\n",
    "            nodes = [i for i in range(self.ring_size)]\n",
    "        succs = [pd.Series({\"succ\": self.get_succ(node)}, name=node) for node in nodes]\n",
    "        return pd.DataFrame(succs)\n",
    "\n",
    "    def get_finger_table(self, active_node):\n",
    "        finger_table = {}\n",
    "        for i in range(self.finger_table_size):\n",
    "            finger_table[f\"i_{i}\"] = self.get_succ(\n",
    "                (active_node + 2**i) % self.ring_size\n",
    "            )\n",
    "        return pd.Series(finger_table, name=active_node)\n",
    "\n",
    "    def get_finger_tables(self, nodes=None):\n",
    "        if not nodes:\n",
    "            nodes = self.active_nodes\n",
    "        return pd.DataFrame(\n",
    "            [self.get_finger_table(node) for node in nodes]\n",
    "        ).sort_index()\n",
    "\n",
    "    def get_path(self, start, end):\n",
    "        steps_taken = 0\n",
    "        finish = self.get_succ(end)\n",
    "        path = f\"{start}\"\n",
    "        current = start\n",
    "        while current != finish:\n",
    "            steps_taken += 1\n",
    "            if steps_taken > self.ring_size:\n",
    "                raise Exception(\"something wrong \"+ path)\n",
    "            \n",
    "            finger_table = self.get_finger_table(current).values\n",
    "            current = finger_table[0]\n",
    "            for node in finger_table[1:]:\n",
    "                if ((start > end) and (node <= start) and (node > end)) or (\n",
    "                    (start < end) and ((node > end) or node <= start)\n",
    "                ):\n",
    "                    break\n",
    "                current = node\n",
    "                if node == finish:\n",
    "                    break\n",
    "            path += f\"-{current}\"\n",
    "        return path\n",
    "\n",
    "    def get_finger_tables_for_path(self, start, end):\n",
    "        nodes = [int(node) for node in self.get_path(start, end).split(\"-\")]\n",
    "        return self.get_finger_tables(nodes)\n"
   ]
  },
  {
   "cell_type": "markdown",
   "metadata": {},
   "source": [
    "## test"
   ]
  },
  {
   "cell_type": "code",
   "execution_count": 85,
   "metadata": {},
   "outputs": [],
   "source": [
    "# import pytest\n",
    "# @pytest.fixture\n",
    "def test_cs():\n",
    "    return ChordSystem(16, [2, 4, 7, 8, 10, 12, 15])\n",
    "\n",
    "\n",
    "test_cs = test_cs()\n"
   ]
  },
  {
   "cell_type": "code",
   "execution_count": 86,
   "metadata": {},
   "outputs": [],
   "source": [
    "def test_get_succ(test_cs: ChordSystem):\n",
    "    assert test_cs.get_succ(0) == 2\n",
    "    assert test_cs.get_succ(2) == 2\n",
    "    assert test_cs.get_succ(10) == 10\n",
    "    assert test_cs.get_succ(15) == 15\n",
    "    assert test_cs.get_succ(16) == 2\n",
    "\n",
    "\n",
    "test_get_succ(test_cs)\n"
   ]
  },
  {
   "cell_type": "code",
   "execution_count": 87,
   "metadata": {},
   "outputs": [],
   "source": [
    "def test_get_succs(test_cs:ChordSystem):\n",
    "    expected = [2, 2, 10, 15, 2]\n",
    "    result = list(test_cs.get_succs([0,2,10,15,16])[\"succ\"])\n",
    "    assert expected == result \n",
    "    \n",
    "test_get_succs(test_cs)"
   ]
  },
  {
   "cell_type": "code",
   "execution_count": 88,
   "metadata": {},
   "outputs": [],
   "source": [
    "def test_get_finger_table(test_cs: ChordSystem):\n",
    "    result = list(test_cs.get_finger_table(2))\n",
    "    expected = [4, 4, 7, 10]\n",
    "    assert result == expected\n",
    "    result = list(test_cs.get_finger_table(15))\n",
    "    expected = [2, 2, 4, 7]\n",
    "    assert result == expected\n",
    "\n",
    "\n",
    "test_get_finger_table(test_cs)\n"
   ]
  },
  {
   "cell_type": "code",
   "execution_count": 89,
   "metadata": {},
   "outputs": [],
   "source": [
    "def test_get_finger_tables(test_cs: ChordSystem):\n",
    "\n",
    "    expected = [10, 7]\n",
    "    result = list(test_cs.get_finger_tables([2, 15])[\"i_3\"])\n",
    "    assert expected == result\n",
    "\n",
    "\n",
    "test_get_finger_tables(test_cs)\n"
   ]
  },
  {
   "cell_type": "code",
   "execution_count": 90,
   "metadata": {},
   "outputs": [],
   "source": [
    "def test_get_path(test_cs: ChordSystem):\n",
    "    result = test_cs.get_path(2, 14)\n",
    "    expected = \"2-10-12-15\"\n",
    "    assert expected == result\n",
    "\n",
    "    result = test_cs.get_path(12, 9)\n",
    "    expected = \"12-4-8-10\"\n",
    "    assert expected == result\n",
    "\n",
    "    # Beispiel für Routing über Finger-Tabellen auf Frau Ma's Folien\n",
    "    cs = ChordSystem(ring_size=16, active_nodes={0, 3, 5, 8, 12, 14})\n",
    "    result = cs.get_path(3, 15)\n",
    "    expected = \"3-12-14-0\"\n",
    "    assert result == expected\n",
    "    \n",
    "    # EA 4 Chord Aufgabe\n",
    "    cs = ChordSystem(ring_size=16, active_nodes={0, 2, 6, 8, 10, 12})\n",
    "    result = cs.get_path(2, 9)\n",
    "    expected = '2-6-8-10'\n",
    "    assert result == expected\n",
    "\n",
    "\n",
    "test_get_path(test_cs)\n"
   ]
  },
  {
   "cell_type": "markdown",
   "metadata": {},
   "source": [
    "# creation"
   ]
  },
  {
   "cell_type": "code",
   "execution_count": 91,
   "metadata": {},
   "outputs": [],
   "source": [
    "ring_size = 16\n",
    "active_nodes = {2, 4, 7, 8, 10, 12, 15}\n",
    "cs = ChordSystem(ring_size, active_nodes)\n"
   ]
  },
  {
   "cell_type": "markdown",
   "metadata": {},
   "source": [
    "# succ"
   ]
  },
  {
   "cell_type": "code",
   "execution_count": 92,
   "metadata": {},
   "outputs": [
    {
     "data": {
      "text/html": [
       "<div>\n",
       "<style scoped>\n",
       "    .dataframe tbody tr th:only-of-type {\n",
       "        vertical-align: middle;\n",
       "    }\n",
       "\n",
       "    .dataframe tbody tr th {\n",
       "        vertical-align: top;\n",
       "    }\n",
       "\n",
       "    .dataframe thead th {\n",
       "        text-align: right;\n",
       "    }\n",
       "</style>\n",
       "<table border=\"1\" class=\"dataframe\">\n",
       "  <thead>\n",
       "    <tr style=\"text-align: right;\">\n",
       "      <th></th>\n",
       "      <th>succ</th>\n",
       "    </tr>\n",
       "  </thead>\n",
       "  <tbody>\n",
       "    <tr>\n",
       "      <th>0</th>\n",
       "      <td>2</td>\n",
       "    </tr>\n",
       "    <tr>\n",
       "      <th>2</th>\n",
       "      <td>2</td>\n",
       "    </tr>\n",
       "    <tr>\n",
       "      <th>4</th>\n",
       "      <td>4</td>\n",
       "    </tr>\n",
       "    <tr>\n",
       "      <th>6</th>\n",
       "      <td>7</td>\n",
       "    </tr>\n",
       "    <tr>\n",
       "      <th>13</th>\n",
       "      <td>15</td>\n",
       "    </tr>\n",
       "    <tr>\n",
       "      <th>15</th>\n",
       "      <td>15</td>\n",
       "    </tr>\n",
       "  </tbody>\n",
       "</table>\n",
       "</div>"
      ],
      "text/plain": [
       "    succ\n",
       "0      2\n",
       "2      2\n",
       "4      4\n",
       "6      7\n",
       "13    15\n",
       "15    15"
      ]
     },
     "execution_count": 92,
     "metadata": {},
     "output_type": "execute_result"
    }
   ],
   "source": [
    "nodes_to_get_succ_for = {0, 2, 4, 6, 13, 15}\n",
    "cs.get_succs(nodes_to_get_succ_for)\n"
   ]
  },
  {
   "cell_type": "markdown",
   "metadata": {},
   "source": [
    "# finger table"
   ]
  },
  {
   "cell_type": "code",
   "execution_count": 93,
   "metadata": {},
   "outputs": [
    {
     "data": {
      "text/html": [
       "<div>\n",
       "<style scoped>\n",
       "    .dataframe tbody tr th:only-of-type {\n",
       "        vertical-align: middle;\n",
       "    }\n",
       "\n",
       "    .dataframe tbody tr th {\n",
       "        vertical-align: top;\n",
       "    }\n",
       "\n",
       "    .dataframe thead th {\n",
       "        text-align: right;\n",
       "    }\n",
       "</style>\n",
       "<table border=\"1\" class=\"dataframe\">\n",
       "  <thead>\n",
       "    <tr style=\"text-align: right;\">\n",
       "      <th></th>\n",
       "      <th>i_0</th>\n",
       "      <th>i_1</th>\n",
       "      <th>i_2</th>\n",
       "      <th>i_3</th>\n",
       "    </tr>\n",
       "  </thead>\n",
       "  <tbody>\n",
       "    <tr>\n",
       "      <th>2</th>\n",
       "      <td>4</td>\n",
       "      <td>4</td>\n",
       "      <td>7</td>\n",
       "      <td>10</td>\n",
       "    </tr>\n",
       "    <tr>\n",
       "      <th>4</th>\n",
       "      <td>7</td>\n",
       "      <td>7</td>\n",
       "      <td>8</td>\n",
       "      <td>12</td>\n",
       "    </tr>\n",
       "    <tr>\n",
       "      <th>7</th>\n",
       "      <td>8</td>\n",
       "      <td>10</td>\n",
       "      <td>12</td>\n",
       "      <td>15</td>\n",
       "    </tr>\n",
       "    <tr>\n",
       "      <th>8</th>\n",
       "      <td>10</td>\n",
       "      <td>10</td>\n",
       "      <td>12</td>\n",
       "      <td>2</td>\n",
       "    </tr>\n",
       "    <tr>\n",
       "      <th>10</th>\n",
       "      <td>12</td>\n",
       "      <td>12</td>\n",
       "      <td>15</td>\n",
       "      <td>2</td>\n",
       "    </tr>\n",
       "    <tr>\n",
       "      <th>12</th>\n",
       "      <td>15</td>\n",
       "      <td>15</td>\n",
       "      <td>2</td>\n",
       "      <td>4</td>\n",
       "    </tr>\n",
       "    <tr>\n",
       "      <th>15</th>\n",
       "      <td>2</td>\n",
       "      <td>2</td>\n",
       "      <td>4</td>\n",
       "      <td>7</td>\n",
       "    </tr>\n",
       "  </tbody>\n",
       "</table>\n",
       "</div>"
      ],
      "text/plain": [
       "    i_0  i_1  i_2  i_3\n",
       "2     4    4    7   10\n",
       "4     7    7    8   12\n",
       "7     8   10   12   15\n",
       "8    10   10   12    2\n",
       "10   12   12   15    2\n",
       "12   15   15    2    4\n",
       "15    2    2    4    7"
      ]
     },
     "execution_count": 93,
     "metadata": {},
     "output_type": "execute_result"
    }
   ],
   "source": [
    "cs.get_finger_tables()"
   ]
  },
  {
   "cell_type": "markdown",
   "metadata": {},
   "source": [
    "# path"
   ]
  },
  {
   "cell_type": "code",
   "execution_count": 94,
   "metadata": {},
   "outputs": [
    {
     "data": {
      "text/plain": [
       "'4-8-10-12'"
      ]
     },
     "execution_count": 94,
     "metadata": {},
     "output_type": "execute_result"
    }
   ],
   "source": [
    "start = 4\n",
    "end = 11\n",
    "cs.get_path(start, end)\n"
   ]
  },
  {
   "cell_type": "markdown",
   "metadata": {},
   "source": [
    "# finger tables for path"
   ]
  },
  {
   "cell_type": "code",
   "execution_count": 95,
   "metadata": {},
   "outputs": [
    {
     "data": {
      "text/html": [
       "<div>\n",
       "<style scoped>\n",
       "    .dataframe tbody tr th:only-of-type {\n",
       "        vertical-align: middle;\n",
       "    }\n",
       "\n",
       "    .dataframe tbody tr th {\n",
       "        vertical-align: top;\n",
       "    }\n",
       "\n",
       "    .dataframe thead th {\n",
       "        text-align: right;\n",
       "    }\n",
       "</style>\n",
       "<table border=\"1\" class=\"dataframe\">\n",
       "  <thead>\n",
       "    <tr style=\"text-align: right;\">\n",
       "      <th></th>\n",
       "      <th>i_0</th>\n",
       "      <th>i_1</th>\n",
       "      <th>i_2</th>\n",
       "      <th>i_3</th>\n",
       "    </tr>\n",
       "  </thead>\n",
       "  <tbody>\n",
       "    <tr>\n",
       "      <th>4</th>\n",
       "      <td>7</td>\n",
       "      <td>7</td>\n",
       "      <td>8</td>\n",
       "      <td>12</td>\n",
       "    </tr>\n",
       "    <tr>\n",
       "      <th>8</th>\n",
       "      <td>10</td>\n",
       "      <td>10</td>\n",
       "      <td>12</td>\n",
       "      <td>2</td>\n",
       "    </tr>\n",
       "    <tr>\n",
       "      <th>10</th>\n",
       "      <td>12</td>\n",
       "      <td>12</td>\n",
       "      <td>15</td>\n",
       "      <td>2</td>\n",
       "    </tr>\n",
       "    <tr>\n",
       "      <th>12</th>\n",
       "      <td>15</td>\n",
       "      <td>15</td>\n",
       "      <td>2</td>\n",
       "      <td>4</td>\n",
       "    </tr>\n",
       "  </tbody>\n",
       "</table>\n",
       "</div>"
      ],
      "text/plain": [
       "    i_0  i_1  i_2  i_3\n",
       "4     7    7    8   12\n",
       "8    10   10   12    2\n",
       "10   12   12   15    2\n",
       "12   15   15    2    4"
      ]
     },
     "execution_count": 95,
     "metadata": {},
     "output_type": "execute_result"
    }
   ],
   "source": [
    "cs.get_finger_tables_for_path(start,end)"
   ]
  }
 ],
 "metadata": {
  "interpreter": {
   "hash": "916dbcbb3f70747c44a77c7bcd40155683ae19c65e1c03b4aa3499c5328201f1"
  },
  "kernelspec": {
   "display_name": "Python 3.9.7 64-bit",
   "language": "python",
   "name": "python3"
  },
  "language_info": {
   "codemirror_mode": {
    "name": "ipython",
    "version": 3
   },
   "file_extension": ".py",
   "mimetype": "text/x-python",
   "name": "python",
   "nbconvert_exporter": "python",
   "pygments_lexer": "ipython3",
   "version": "3.9.7"
  },
  "orig_nbformat": 4
 },
 "nbformat": 4,
 "nbformat_minor": 2
}
