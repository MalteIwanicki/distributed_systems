{
 "cells": [
  {
   "cell_type": "markdown",
   "metadata": {},
   "source": [
    "# How often do clocks need to be synchronised to have a deviation smaller than x?"
   ]
  },
  {
   "cell_type": "code",
   "execution_count": 16,
   "metadata": {},
   "outputs": [],
   "source": [
    "ns2s = nanoseconds_to_seconds = lambda ns: (10 ** -9) * ns\n",
    "ms2s = milliseconds_to_seconds = lambda ms: (10 ** -3) * ms\n",
    "minutes = lambda m: 60 * m\n"
   ]
  },
  {
   "cell_type": "code",
   "execution_count": 17,
   "metadata": {},
   "outputs": [
    {
     "name": "stdout",
     "output_type": "stream",
     "text": [
      "Synchronisationen pro sekunde:  40\n"
     ]
    }
   ],
   "source": [
    "def get_synchronization_frequenzy(maximum_deviation, max_clock_driftrate):\n",
    "    # in the worst case one clock runs maximum fast and the other maximum slow, therefore 2 * driftrate\n",
    "    synchronize_every_x_seconds = maximum_deviation / (2 * max_clock_driftrate)\n",
    "    return round(1 / synchronize_every_x_seconds)\n",
    "\n",
    "\n",
    "max_deviation_wanted = ns2s(50)\n",
    "max_clock_driftrate = 10 ** -6\n",
    "print(\n",
    "    \"Synchronisationen pro sekunde: \",\n",
    "    get_synchronization_frequenzy(max_deviation_wanted, max_clock_driftrate),\n",
    ")\n"
   ]
  },
  {
   "cell_type": "markdown",
   "metadata": {},
   "source": [
    "# Drift nach x Zeit"
   ]
  },
  {
   "cell_type": "code",
   "execution_count": 18,
   "metadata": {},
   "outputs": [
    {
     "name": "stdout",
     "output_type": "stream",
     "text": [
      "drift nach einer minute ist:  3.0\n"
     ]
    }
   ],
   "source": [
    "def get_deviation(ticks_of_good_clock_per_second, ticks_of_deviating_clock_per_second):\n",
    "    return abs(ticks_of_good_clock_per_second - ticks_of_deviating_clock_per_second)\n",
    "\n",
    "\n",
    "print(\n",
    "    \"drift nach einer minute ist: \",\n",
    "    round(get_deviation(ms2s(1000), ms2s(950)) * minutes(1), 3),\n",
    ")\n"
   ]
  },
  {
   "cell_type": "markdown",
   "metadata": {},
   "source": [
    "# Offset zwischen zwei uhren"
   ]
  },
  {
   "cell_type": "code",
   "execution_count": 1,
   "metadata": {},
   "outputs": [],
   "source": [
    "times = { # jede spalte im dict ist eine übertragung\n",
    "    \"t0\": [13.420, 20.752, 25.325],\n",
    "    \"t1\": [15.450, 22.00, 30.855],\n",
    "    \"t2\": [25.700,24.925, 32.255],\n",
    "    \"t3\": [24.925, 24.650, 31.455],\n",
    "}\n"
   ]
  },
  {
   "cell_type": "code",
   "execution_count": 2,
   "metadata": {},
   "outputs": [
    {
     "name": "stdout",
     "output_type": "stream",
     "text": [
      "time_offset: 15.45 - 13.42 + 25.7 - 24.925 = 1.4025\n",
      "time_offset: 22.0 - 20.752 + 24.925 - 24.65 = 0.7615\n",
      "time_offset: 30.855 - 25.325 + 32.255 - 31.455 = 3.165\n"
     ]
    },
    {
     "data": {
      "text/plain": [
       "[1.4025, 0.7615, 3.165]"
      ]
     },
     "execution_count": 2,
     "metadata": {},
     "output_type": "execute_result"
    }
   ],
   "source": [
    "def get_time_offset(t0, t1, t2, t3):\n",
    "    # t0 und t3 sind sender seite, t2 und t3 sind empfänger seite\n",
    "    res = ((t1 - t0) + (t2 - t3)) / 2\n",
    "    res=round(res, 4)\n",
    "    print(f\"time_offset: {t1} - {t0} + {t2} - {t3} = {res}\")\n",
    "    return res\n",
    "\n",
    "\n",
    "offsets = []\n",
    "for n in range(len(times[\"t0\"])):\n",
    "    offset = get_time_offset(\n",
    "        times[\"t0\"][n], times[\"t1\"][n], times[\"t2\"][n], times[\"t3\"][n]\n",
    "    )\n",
    "    offsets.append(round(offset, 4))\n",
    "\n",
    "offsets\n"
   ]
  },
  {
   "cell_type": "markdown",
   "metadata": {},
   "source": [
    "# round trip delay"
   ]
  },
  {
   "cell_type": "code",
   "execution_count": 3,
   "metadata": {},
   "outputs": [
    {
     "name": "stdout",
     "output_type": "stream",
     "text": [
      "round trip delay: 24.925 - 13.42 + 25.7 - 15.45 = 1.255\n",
      "round trip delay: 24.65 - 20.752 + 24.925 - 22.0 = 0.973\n",
      "round trip delay: 31.455 - 25.325 + 32.255 - 30.855 = 4.73\n"
     ]
    },
    {
     "data": {
      "text/plain": [
       "[1.255, 0.973, 4.73]"
      ]
     },
     "execution_count": 3,
     "metadata": {},
     "output_type": "execute_result"
    }
   ],
   "source": [
    "def get_round_trip_delay(t0, t1, t2, t3):\n",
    "    res=(t3 - t0) - (t2 - t1)\n",
    "    res = round(res,4)\n",
    "    print(f\"round trip delay: {t3} - {t0} + {t2} - {t1} = {res}\")\n",
    "    return res\n",
    "\n",
    "\n",
    "delays = []\n",
    "for n in range(len(times[\"t1\"])):\n",
    "    deviation = get_round_trip_delay(\n",
    "        times[\"t0\"][n], times[\"t1\"][n], times[\"t2\"][n], times[\"t3\"][n]\n",
    "    )\n",
    "    delays.append(round(deviation, 4))\n",
    "\n",
    "delays\n"
   ]
  },
  {
   "cell_type": "markdown",
   "metadata": {},
   "source": [
    "# offset\n"
   ]
  },
  {
   "cell_type": "code",
   "execution_count": 4,
   "metadata": {},
   "outputs": [],
   "source": [
    "def get_time_shifted(t0,t1,t2,t3):\n",
    "    offset=get_time_offset(t0,t1,t2,t3)\n",
    "    delay=get_round_trip_delay(t0,t1,t2,t3)\n",
    "    res=t3 + offset - delay/2\n",
    "    res = round(res,4)\n",
    "    print(f\"time_shifted: {t3} + {offset} - {delay} / 2 = {res}\")\n",
    "    return (res,offset,delay)"
   ]
  },
  {
   "cell_type": "code",
   "execution_count": 9,
   "metadata": {},
   "outputs": [
    {
     "name": "stdout",
     "output_type": "stream",
     "text": [
      "Anfrage: Sender: 13.42, Empfänger: 15.45 \n",
      "Antwort: Sender: 25.7, Empfänger: 24.925\n",
      "time_offset: 15.45 - 13.42 + 25.7 - 24.925 = 1.4025\n",
      "round trip delay: 24.925 - 13.42 + 25.7 - 15.45 = 1.255\n",
      "time_shifted: 24.925 + 1.4025 - 1.255 / 2 = 25.7\n",
      "\n",
      "Anfrage: Sender: 20.752, Empfänger: 22.0 \n",
      "Antwort: Sender: 24.925, Empfänger: 24.65\n",
      "time_offset: 22.0 - 20.752 + 24.925 - 24.65 = 0.7615\n",
      "round trip delay: 24.65 - 20.752 + 24.925 - 22.0 = 0.973\n",
      "time_shifted: 24.65 + 0.7615 - 0.973 / 2 = 24.925\n",
      "\n",
      "Anfrage: Sender: 25.325, Empfänger: 30.855 \n",
      "Antwort: Sender: 32.255, Empfänger: 31.455\n",
      "time_offset: 30.855 - 25.325 + 32.255 - 31.455 = 3.165\n",
      "round trip delay: 31.455 - 25.325 + 32.255 - 30.855 = 4.73\n",
      "time_shifted: 31.455 + 3.165 - 4.73 / 2 = 32.255\n",
      "\n",
      "die kleinste verzögerung wird gewählt also um 0.7615\n"
     ]
    }
   ],
   "source": [
    "time_offsets = []\n",
    "for n in range(len(times[\"t0\"])):\n",
    "    print(f'Anfrage: Sender: {times[\"t0\"][n]}, Empfänger: {times[\"t1\"][n]} \\nAntwort: Sender: {times[\"t2\"][n]}, Empfänger: {times[\"t3\"][n]}')\n",
    "    time_offsets.append(\n",
    "        get_time_shifted(times[\"t0\"][n], times[\"t1\"][n], times[\"t2\"][n], times[\"t3\"][n])\n",
    "    )\n",
    "    print()\n",
    "    \n",
    "print(f\"die kleinste verzögerung wird gewählt also um {min(time_offsets[1])}\")\n"
   ]
  },
  {
   "cell_type": "markdown",
   "metadata": {},
   "source": [
    "time_offset: 15.45 - 13.42 + 25.7 - 24.925 = 1.4025\n",
    "round trip delay: 24.925 - 13.42 + 25.7 - 15.45 = 1.255\n",
    "time_shifted: 24.925 + 1.4025 - 1.255 / 2 = 25.7\n",
    "\n",
    "time_offset: 22.0 - 20.752 + 24.925 - 24.65 = 0.7615\n",
    "round trip delay: 24.65 - 20.752 + 24.925 - 22.0 = 0.973\n",
    "time_shifted: 24.65 + 0.7615 - 0.973 / 2 = 24.925\n",
    "\n",
    "time_offset: 30.855 - 25.325 + 32.255 - 31.455 = 3.165\n",
    "round trip delay: 31.455 - 25.325 + 32.255 - 30.855 = 4.73\n",
    "time_shifted: 31.455 + 3.165 - 4.73 / 2 = 32.255\n",
    "\n",
    "die kleinste verzögerung wird gewählt also um 0.7615"
   ]
  },
  {
   "cell_type": "markdown",
   "metadata": {},
   "source": [
    "# GPS\n"
   ]
  },
  {
   "cell_type": "code",
   "execution_count": 37,
   "metadata": {},
   "outputs": [],
   "source": [
    "C = 3 * (10 ** 5) # Lichtgeschwindigkeit in km/s\n",
    "C2 = C / 1000 # Lichtgeschwindigkeit in m/mu_s\n",
    "\n",
    "T_A = \"t_A\"\n",
    "T_B = \"t_B\"\n",
    "entfernung = 3\n",
    "messungen = {1: {T_A: 7, T_B: 5}, 2: {T_A: 2, T_B: -6}, 3: {T_A: -1019, T_B: -1011}}\n"
   ]
  },
  {
   "cell_type": "code",
   "execution_count": 42,
   "metadata": {},
   "outputs": [
    {
     "data": {
      "text/plain": [
       "10.0"
      ]
     },
     "execution_count": 42,
     "metadata": {},
     "output_type": "execute_result"
    }
   ],
   "source": [
    "3000/C2"
   ]
  },
  {
   "cell_type": "code",
   "execution_count": 47,
   "metadata": {},
   "outputs": [
    {
     "name": "stdout",
     "output_type": "stream",
     "text": [
      "delta: 1.0, entfernung zu A: 1800.0\n",
      "delta: -7.0, entfernung zu A: 2700.0\n",
      "delta: -1020.0, entfernung zu A: 300.0\n"
     ]
    }
   ],
   "source": [
    "def messe_distanz(t_A, t_B, distanz_zwischen_A_und_B_in_m):\n",
    "    sendezeit_A_nach_B_in_mu_s = distanz_zwischen_A_und_B_in_m / C2\n",
    "    delta = (t_A + t_B - sendezeit_A_nach_B_in_mu_s) / 2 # uhr abweichung\n",
    "    \n",
    "    entfernung_von_A = C2 * (t_A - delta)\n",
    "    print(f\"delta: {delta}, entfernung zu A: {entfernung_von_A}\")\n",
    "\n",
    "\n",
    "for m in messungen:\n",
    "    messe_distanz(messungen[m][T_A], messungen[m][T_B], 3000)\n"
   ]
  },
  {
   "cell_type": "code",
   "execution_count": null,
   "metadata": {},
   "outputs": [],
   "source": []
  }
 ],
 "metadata": {
  "interpreter": {
   "hash": "ecf5722fdaf1897a315d257d89d94520bfcaa453217d5becf09b39e73618b0de"
  },
  "kernelspec": {
   "display_name": "Python 3.9.7 64-bit ('base': conda)",
   "language": "python",
   "name": "python3"
  },
  "language_info": {
   "codemirror_mode": {
    "name": "ipython",
    "version": 3
   },
   "file_extension": ".py",
   "mimetype": "text/x-python",
   "name": "python",
   "nbconvert_exporter": "python",
   "pygments_lexer": "ipython3",
   "version": "3.9.7"
  },
  "orig_nbformat": 4
 },
 "nbformat": 4,
 "nbformat_minor": 2
}
