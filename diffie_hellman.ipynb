{
 "cells": [
  {
   "cell_type": "code",
   "execution_count": 2,
   "metadata": {},
   "outputs": [],
   "source": [
    "from IPython.display import display, Markdown"
   ]
  },
  {
   "cell_type": "markdown",
   "metadata": {},
   "source": [
    "# Square multiply algorithm"
   ]
  },
  {
   "cell_type": "markdown",
   "metadata": {},
   "source": [
    "## function"
   ]
  },
  {
   "cell_type": "code",
   "execution_count": 36,
   "metadata": {},
   "outputs": [],
   "source": [
    "class Connection:\n",
    "    def __init__(self, g, n, name_a, name_b, private_number_a, private_number_b):\n",
    "        self.name_a = name_a\n",
    "        self.name_b = name_b\n",
    "        self.g = g\n",
    "        self.n = n\n",
    "        self.private_number_a = private_number_a\n",
    "        self.private_number_b = private_number_b\n",
    "\n",
    "    def __call__(self):\n",
    "        # Person A\n",
    "        display(\n",
    "            Markdown(\n",
    "                f\"{self.name_a} berechnet: $ g^x \\mod n = {self.g}^{{{self.private_number_a}}}\\mod {{{self.n}}}:$\"\n",
    "            )\n",
    "        )\n",
    "        a = self.private_number_a\n",
    "        display(Markdown(f\"${a}$ in binary:\"))\n",
    "        binary = \"\"\n",
    "        # Get Binary\n",
    "        while True:\n",
    "            result = a // 2\n",
    "            remainder = a % 2\n",
    "            binary += str(remainder)\n",
    "            display(Markdown(f\"${a} / 2= {result} R {remainder}$\"))\n",
    "            a = result\n",
    "            if a == 0:\n",
    "                break\n",
    "        binary_a = binary[::-1]\n",
    "        display(Markdown(f\"$\\Rightarrow {self.private_number_a} = {binary_a}_2$\"))\n",
    "        # Get sent number\n",
    "        number = 1\n",
    "        for i in binary_a:\n",
    "            result = number**2 % self.n\n",
    "            result_2 = 0\n",
    "            if_txt = \"\"\n",
    "\n",
    "            if int(i) == 1:\n",
    "                result_2 = result * self.g % self.n\n",
    "                if_txt = f\"{result}\\\\times{{{self.g}}}\\mod{{{self.n}}}={result_2},\"\n",
    "\n",
    "            display(\n",
    "                Markdown(\n",
    "                    f\"{i}\\)$\\hspace{{1em}}{number}^2 \\mod {{{self.n}}} = {result}, \\hspace{{1em}}{if_txt}$\"\n",
    "                )\n",
    "            )\n",
    "            number = result_2 if result_2 else result\n",
    "        result_a = number\n",
    "        display(\n",
    "            Markdown(\n",
    "                f\"$\\Rightarrow {self.g}^{{{self.private_number_a}}} \\mod{{{self.n}}}={result_a}$\"\n",
    "            )\n",
    "        )\n",
    "        display(\n",
    "            Markdown(f\"$\\Rightarrow$ {self.name_a} sendet {result_a} an {self.name_b}\")\n",
    "        )\n",
    "\n",
    "        # Person B\n",
    "        display(\n",
    "            Markdown(\n",
    "                f\"{self.name_b} berechnet: $ (g^x \\mod n)^y = {result_a}^{{{self.private_number_b}}}\\mod {{{self.n}}}:$\"\n",
    "            )\n",
    "        )\n",
    "        b = self.private_number_b\n",
    "        display(Markdown(f\"${b}$ in binary:\"))\n",
    "        binary = \"\"\n",
    "        # Get Binary\n",
    "        while True:\n",
    "            result = b // 2\n",
    "            remainder = b % 2\n",
    "            binary += str(remainder)\n",
    "            display(Markdown(f\"${b} / 2= {result} R {remainder}$\"))\n",
    "            b = result\n",
    "            if b == 0:\n",
    "                break\n",
    "        binary_b = binary[::-1]\n",
    "        display(Markdown(f\"$\\Rightarrow {self.private_number_b} = {binary_b}_2$\"))\n",
    "        # Get sent number\n",
    "        number = 1\n",
    "        for i in binary_b:\n",
    "            result = number**2 % self.n\n",
    "            result_2 = 0\n",
    "            if_txt = \"\"\n",
    "\n",
    "            if int(i) == 1:\n",
    "                result_2 = result * result_a % self.n\n",
    "                if_txt = f\"{result}\\\\times{{{result_a}}}\\mod{{{self.n}}}={result_2},\"\n",
    "\n",
    "            display(\n",
    "                Markdown(\n",
    "                    f\"{i}\\)$\\hspace{{1em}}{number}^2 \\mod {{{self.n}}} = {result}, \\hspace{{1em}}{if_txt}$\"\n",
    "                )\n",
    "            )\n",
    "            number = result_2 if result_2 else result\n",
    "        result_b = number\n",
    "        display(\n",
    "            Markdown(\n",
    "                f\"$\\Rightarrow {self.g}^{{{self.private_number_b}}} \\mod{{{self.n}}}={result_b}$\"\n",
    "            )\n",
    "        )\n",
    "        display(\n",
    "            Markdown(f\"$\\Rightarrow$ {self.name_b} sendet {result_b} an {self.name_a}\")\n",
    "        )\n",
    "        display(Markdown(f\"Der Private Schlüssel ist {result_b}.\"))\n"
   ]
  },
  {
   "cell_type": "markdown",
   "metadata": {},
   "source": [
    "## execution"
   ]
  },
  {
   "cell_type": "code",
   "execution_count": 40,
   "metadata": {},
   "outputs": [
    {
     "data": {
      "text/markdown": [
       "Alice berechnet: $ g^x \\mod n = 7^{23}\\mod {83}:$"
      ],
      "text/plain": [
       "<IPython.core.display.Markdown object>"
      ]
     },
     "metadata": {},
     "output_type": "display_data"
    },
    {
     "data": {
      "text/markdown": [
       "$23$ in binary:"
      ],
      "text/plain": [
       "<IPython.core.display.Markdown object>"
      ]
     },
     "metadata": {},
     "output_type": "display_data"
    },
    {
     "data": {
      "text/markdown": [
       "$23 / 2= 11 R 1$"
      ],
      "text/plain": [
       "<IPython.core.display.Markdown object>"
      ]
     },
     "metadata": {},
     "output_type": "display_data"
    },
    {
     "data": {
      "text/markdown": [
       "$11 / 2= 5 R 1$"
      ],
      "text/plain": [
       "<IPython.core.display.Markdown object>"
      ]
     },
     "metadata": {},
     "output_type": "display_data"
    },
    {
     "data": {
      "text/markdown": [
       "$5 / 2= 2 R 1$"
      ],
      "text/plain": [
       "<IPython.core.display.Markdown object>"
      ]
     },
     "metadata": {},
     "output_type": "display_data"
    },
    {
     "data": {
      "text/markdown": [
       "$2 / 2= 1 R 0$"
      ],
      "text/plain": [
       "<IPython.core.display.Markdown object>"
      ]
     },
     "metadata": {},
     "output_type": "display_data"
    },
    {
     "data": {
      "text/markdown": [
       "$1 / 2= 0 R 1$"
      ],
      "text/plain": [
       "<IPython.core.display.Markdown object>"
      ]
     },
     "metadata": {},
     "output_type": "display_data"
    },
    {
     "data": {
      "text/markdown": [
       "$\\Rightarrow 23 = 10111_2$"
      ],
      "text/plain": [
       "<IPython.core.display.Markdown object>"
      ]
     },
     "metadata": {},
     "output_type": "display_data"
    },
    {
     "data": {
      "text/markdown": [
       "1\\)$\\hspace{1em}1^2 \\mod {83} = 1, \\hspace{1em}1\\times{7}\\mod{83}=7,$"
      ],
      "text/plain": [
       "<IPython.core.display.Markdown object>"
      ]
     },
     "metadata": {},
     "output_type": "display_data"
    },
    {
     "data": {
      "text/markdown": [
       "0\\)$\\hspace{1em}7^2 \\mod {83} = 49, \\hspace{1em}$"
      ],
      "text/plain": [
       "<IPython.core.display.Markdown object>"
      ]
     },
     "metadata": {},
     "output_type": "display_data"
    },
    {
     "data": {
      "text/markdown": [
       "1\\)$\\hspace{1em}49^2 \\mod {83} = 77, \\hspace{1em}77\\times{7}\\mod{83}=41,$"
      ],
      "text/plain": [
       "<IPython.core.display.Markdown object>"
      ]
     },
     "metadata": {},
     "output_type": "display_data"
    },
    {
     "data": {
      "text/markdown": [
       "1\\)$\\hspace{1em}41^2 \\mod {83} = 21, \\hspace{1em}21\\times{7}\\mod{83}=64,$"
      ],
      "text/plain": [
       "<IPython.core.display.Markdown object>"
      ]
     },
     "metadata": {},
     "output_type": "display_data"
    },
    {
     "data": {
      "text/markdown": [
       "1\\)$\\hspace{1em}64^2 \\mod {83} = 29, \\hspace{1em}29\\times{7}\\mod{83}=37,$"
      ],
      "text/plain": [
       "<IPython.core.display.Markdown object>"
      ]
     },
     "metadata": {},
     "output_type": "display_data"
    },
    {
     "data": {
      "text/markdown": [
       "$\\Rightarrow 7^{23} \\mod{83}=37$"
      ],
      "text/plain": [
       "<IPython.core.display.Markdown object>"
      ]
     },
     "metadata": {},
     "output_type": "display_data"
    },
    {
     "data": {
      "text/markdown": [
       "$\\Rightarrow$ Alice sendet 37 an Bob"
      ],
      "text/plain": [
       "<IPython.core.display.Markdown object>"
      ]
     },
     "metadata": {},
     "output_type": "display_data"
    },
    {
     "data": {
      "text/markdown": [
       "Bob berechnet: $ (g^x \\mod n)^y = 37^{29}\\mod {83}:$"
      ],
      "text/plain": [
       "<IPython.core.display.Markdown object>"
      ]
     },
     "metadata": {},
     "output_type": "display_data"
    },
    {
     "data": {
      "text/markdown": [
       "$29$ in binary:"
      ],
      "text/plain": [
       "<IPython.core.display.Markdown object>"
      ]
     },
     "metadata": {},
     "output_type": "display_data"
    },
    {
     "data": {
      "text/markdown": [
       "$29 / 2= 14 R 1$"
      ],
      "text/plain": [
       "<IPython.core.display.Markdown object>"
      ]
     },
     "metadata": {},
     "output_type": "display_data"
    },
    {
     "data": {
      "text/markdown": [
       "$14 / 2= 7 R 0$"
      ],
      "text/plain": [
       "<IPython.core.display.Markdown object>"
      ]
     },
     "metadata": {},
     "output_type": "display_data"
    },
    {
     "data": {
      "text/markdown": [
       "$7 / 2= 3 R 1$"
      ],
      "text/plain": [
       "<IPython.core.display.Markdown object>"
      ]
     },
     "metadata": {},
     "output_type": "display_data"
    },
    {
     "data": {
      "text/markdown": [
       "$3 / 2= 1 R 1$"
      ],
      "text/plain": [
       "<IPython.core.display.Markdown object>"
      ]
     },
     "metadata": {},
     "output_type": "display_data"
    },
    {
     "data": {
      "text/markdown": [
       "$1 / 2= 0 R 1$"
      ],
      "text/plain": [
       "<IPython.core.display.Markdown object>"
      ]
     },
     "metadata": {},
     "output_type": "display_data"
    },
    {
     "data": {
      "text/markdown": [
       "$\\Rightarrow 29 = 11101_2$"
      ],
      "text/plain": [
       "<IPython.core.display.Markdown object>"
      ]
     },
     "metadata": {},
     "output_type": "display_data"
    },
    {
     "data": {
      "text/markdown": [
       "1\\)$\\hspace{1em}1^2 \\mod {83} = 1, \\hspace{1em}1\\times{37}\\mod{83}=37,$"
      ],
      "text/plain": [
       "<IPython.core.display.Markdown object>"
      ]
     },
     "metadata": {},
     "output_type": "display_data"
    },
    {
     "data": {
      "text/markdown": [
       "1\\)$\\hspace{1em}37^2 \\mod {83} = 41, \\hspace{1em}41\\times{37}\\mod{83}=23,$"
      ],
      "text/plain": [
       "<IPython.core.display.Markdown object>"
      ]
     },
     "metadata": {},
     "output_type": "display_data"
    },
    {
     "data": {
      "text/markdown": [
       "1\\)$\\hspace{1em}23^2 \\mod {83} = 31, \\hspace{1em}31\\times{37}\\mod{83}=68,$"
      ],
      "text/plain": [
       "<IPython.core.display.Markdown object>"
      ]
     },
     "metadata": {},
     "output_type": "display_data"
    },
    {
     "data": {
      "text/markdown": [
       "0\\)$\\hspace{1em}68^2 \\mod {83} = 59, \\hspace{1em}$"
      ],
      "text/plain": [
       "<IPython.core.display.Markdown object>"
      ]
     },
     "metadata": {},
     "output_type": "display_data"
    },
    {
     "data": {
      "text/markdown": [
       "1\\)$\\hspace{1em}59^2 \\mod {83} = 78, \\hspace{1em}78\\times{37}\\mod{83}=64,$"
      ],
      "text/plain": [
       "<IPython.core.display.Markdown object>"
      ]
     },
     "metadata": {},
     "output_type": "display_data"
    },
    {
     "data": {
      "text/markdown": [
       "$\\Rightarrow 7^{29} \\mod{83}=64$"
      ],
      "text/plain": [
       "<IPython.core.display.Markdown object>"
      ]
     },
     "metadata": {},
     "output_type": "display_data"
    },
    {
     "data": {
      "text/markdown": [
       "$\\Rightarrow$ Bob sendet 64 an Alice"
      ],
      "text/plain": [
       "<IPython.core.display.Markdown object>"
      ]
     },
     "metadata": {},
     "output_type": "display_data"
    },
    {
     "data": {
      "text/markdown": [
       "Der Private Schlüssel ist 64."
      ],
      "text/plain": [
       "<IPython.core.display.Markdown object>"
      ]
     },
     "metadata": {},
     "output_type": "display_data"
    }
   ],
   "source": [
    "c = Connection(\n",
    "    g=7, n=83, name_a=\"Alice\", name_b=\"Bob\", private_number_a=23, private_number_b=29\n",
    ")\n",
    "c()\n"
   ]
  },
  {
   "cell_type": "code",
   "execution_count": null,
   "metadata": {},
   "outputs": [],
   "source": []
  }
 ],
 "metadata": {
  "interpreter": {
   "hash": "916dbcbb3f70747c44a77c7bcd40155683ae19c65e1c03b4aa3499c5328201f1"
  },
  "kernelspec": {
   "display_name": "Python 3.9.7 64-bit",
   "language": "python",
   "name": "python3"
  },
  "language_info": {
   "codemirror_mode": {
    "name": "ipython",
    "version": 3
   },
   "file_extension": ".py",
   "mimetype": "text/x-python",
   "name": "python",
   "nbconvert_exporter": "python",
   "pygments_lexer": "ipython3",
   "version": "3.9.7"
  },
  "orig_nbformat": 4
 },
 "nbformat": 4,
 "nbformat_minor": 2
}
