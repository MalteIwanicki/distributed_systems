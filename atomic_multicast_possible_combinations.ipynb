{
 "cells": [
  {
   "cell_type": "markdown",
   "metadata": {},
   "source": [
    "# how many combinations?"
   ]
  },
  {
   "cell_type": "code",
   "execution_count": 1,
   "metadata": {},
   "outputs": [
    {
     "data": {
      "text/plain": [
       "[(1,), (2,)]"
      ]
     },
     "execution_count": 1,
     "metadata": {},
     "output_type": "execute_result"
    }
   ],
   "source": [
    "l=[]\n",
    "b=[(1,),(2,)]\n",
    "l.extend(b)\n",
    "l"
   ]
  },
  {
   "cell_type": "code",
   "execution_count": 2,
   "metadata": {},
   "outputs": [],
   "source": [
    "def get_next_tuples(i,tuples):\n",
    "    next_tuples=[]\n",
    "    if i>0:\n",
    "        next_tuples.extend(tuples[:i])\n",
    "    if len(tuples[i])>1:\n",
    "        a_list= []\n",
    "        for l in tuples[i][1:]:\n",
    "            a_list.append(l)\n",
    "        next_tuples.append(tuple(a_list))\n",
    "    if i<len(tuples)-1:\n",
    "        next_tuples.extend(tuples[i+1:])\n",
    "    return next_tuples"
   ]
  },
  {
   "cell_type": "code",
   "execution_count": 3,
   "metadata": {},
   "outputs": [],
   "source": [
    "def get_permutations(tuples):\n",
    "    if not len(tuples):\n",
    "        return 0\n",
    "    permutations = 0\n",
    "    for i in range(len(tuples)):\n",
    "        next_tuples = get_next_tuples(i,tuples)\n",
    "        if not next_tuples:\n",
    "            permutations += 1\n",
    "        else:\n",
    "            permutations += get_permutations(next_tuples)\n",
    "    return permutations"
   ]
  },
  {
   "cell_type": "code",
   "execution_count": 4,
   "metadata": {},
   "outputs": [
    {
     "name": "stdout",
     "output_type": "stream",
     "text": [
      "0\n",
      "1\n",
      "2\n",
      "6\n",
      "120\n",
      "30\n"
     ]
    }
   ],
   "source": [
    "def test_permutations():\n",
    "    tuples = []\n",
    "    result = get_permutations(tuples)\n",
    "    print(result)\n",
    "    assert 0 == result\n",
    "    \n",
    "    tuples = [(1,)]\n",
    "    result = get_permutations(tuples)\n",
    "    print(result)\n",
    "    assert 1 == result\n",
    "    \n",
    "    tuples = [(1,),(2,)]\n",
    "    result = get_permutations(tuples)\n",
    "    print(result)\n",
    "    assert 2 == result\n",
    "    \n",
    "    tuples = [(1,),(2,),(3,)]\n",
    "    result = get_permutations(tuples)\n",
    "    print(result)\n",
    "    assert 6 == result\n",
    "    \n",
    "    tuples=[(1,),(2,),(3,),(4,),(5,)]\n",
    "    result = get_permutations(tuples)\n",
    "    print(result)\n",
    "    assert 120 == result\n",
    "    \n",
    "    tuples=[(1,4),(3,5),(2,)]\n",
    "    result = get_permutations(tuples)\n",
    "    print(result)\n",
    "    assert 30 == result\n",
    "test_permutations()"
   ]
  },
  {
   "cell_type": "code",
   "execution_count": 5,
   "metadata": {},
   "outputs": [
    {
     "name": "stdout",
     "output_type": "stream",
     "text": [
      "720\n",
      "90\n"
     ]
    }
   ],
   "source": [
    "print(get_permutations([(1,),(2,),(3,),(4,),(5,),(6,)]))\n",
    "print(get_permutations([(1,2),(3,4),(5,6)]))"
   ]
  }
 ],
 "metadata": {
  "interpreter": {
   "hash": "ecf5722fdaf1897a315d257d89d94520bfcaa453217d5becf09b39e73618b0de"
  },
  "kernelspec": {
   "display_name": "Python 3.9.7 ('base')",
   "language": "python",
   "name": "python3"
  },
  "language_info": {
   "codemirror_mode": {
    "name": "ipython",
    "version": 3
   },
   "file_extension": ".py",
   "mimetype": "text/x-python",
   "name": "python",
   "nbconvert_exporter": "python",
   "pygments_lexer": "ipython3",
   "version": "3.9.7"
  },
  "orig_nbformat": 4
 },
 "nbformat": 4,
 "nbformat_minor": 2
}
